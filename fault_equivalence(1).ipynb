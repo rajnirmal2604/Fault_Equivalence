{
  "nbformat": 4,
  "nbformat_minor": 0,
  "metadata": {
    "colab": {
      "provenance": []
    },
    "kernelspec": {
      "name": "python3",
      "display_name": "Python 3"
    },
    "language_info": {
      "name": "python"
    }
  },
  "cells": [
    {
      "cell_type": "code",
      "execution_count": null,
      "metadata": {
        "id": "eycdRmfZQOTv"
      },
      "outputs": [],
      "source": [
        "import numpy as np\n",
        "from fractions import Fraction"
      ]
    },
    {
      "cell_type": "code",
      "source": [
        "with open(\"netlist.txt\") as file:\n",
        "  netlist=[line.split() for line in file]\n",
        "  print(netlist)"
      ],
      "metadata": {
        "colab": {
          "base_uri": "https://localhost:8080/"
        },
        "id": "68RsNSfWRLYk",
        "outputId": "8e5de664-2f4e-4411-c353-7f72dd9e0e3f"
      },
      "execution_count": null,
      "outputs": [
        {
          "output_type": "stream",
          "name": "stdout",
          "text": [
            "[['1', 'gat', 'inpt', '1', '0', '0', '0'], ['2', 'gat', 'inpt', '1', '0', '0', '0'], ['3', 'gat', 'inpt', '2', '0', '0', '0'], ['8', 'fan', 'from', '3', '0', '0', '0'], ['9', 'fan', 'from', '3', '0', '0', '0'], ['6', 'gat', 'inpt', '1', '0', '0', '0'], ['7', 'gat', 'inpt', '1', '0', '0', '0'], ['10', 'gat', 'nand', '1', '2', '1', '8'], ['11', 'gat', 'nand', '2', '2', '9', '6'], ['14', 'fan', 'from', '11', '0', '0', '0'], ['15', 'fan', 'from', '11', '0', '0', '0'], ['16', 'gat', 'nand', '2', '2', '2', '14'], ['20', 'fan', 'from', '16', '0', '0', '0'], ['21', 'fan', 'from', '16', '0', '0', '0'], ['19', 'gat', 'nand', '1', '2', '15', '7'], ['22', 'gat', 'nand', '0', '2', '10', '20'], ['23', 'gat', 'nand', '0', '2', '21', '19']]\n"
          ]
        }
      ]
    },
    {
      "cell_type": "code",
      "source": [
        "netlist= np.array(netlist)\n",
        "print(netlist)\n",
        "output= np.empty((len(netlist),3),dtype='<U8')"
      ],
      "metadata": {
        "colab": {
          "base_uri": "https://localhost:8080/"
        },
        "id": "7RPI4ptZTbda",
        "outputId": "2475bb8a-8933-4fcf-af6a-2124b369413d"
      },
      "execution_count": null,
      "outputs": [
        {
          "output_type": "stream",
          "name": "stdout",
          "text": [
            "[['1' 'gat' 'inpt' '1' '0' '0' '0']\n",
            " ['2' 'gat' 'inpt' '1' '0' '0' '0']\n",
            " ['3' 'gat' 'inpt' '2' '0' '0' '0']\n",
            " ['8' 'fan' 'from' '3' '0' '0' '0']\n",
            " ['9' 'fan' 'from' '3' '0' '0' '0']\n",
            " ['6' 'gat' 'inpt' '1' '0' '0' '0']\n",
            " ['7' 'gat' 'inpt' '1' '0' '0' '0']\n",
            " ['10' 'gat' 'nand' '1' '2' '1' '8']\n",
            " ['11' 'gat' 'nand' '2' '2' '9' '6']\n",
            " ['14' 'fan' 'from' '11' '0' '0' '0']\n",
            " ['15' 'fan' 'from' '11' '0' '0' '0']\n",
            " ['16' 'gat' 'nand' '2' '2' '2' '14']\n",
            " ['20' 'fan' 'from' '16' '0' '0' '0']\n",
            " ['21' 'fan' 'from' '16' '0' '0' '0']\n",
            " ['19' 'gat' 'nand' '1' '2' '15' '7']\n",
            " ['22' 'gat' 'nand' '0' '2' '10' '20']\n",
            " ['23' 'gat' 'nand' '0' '2' '21' '19']]\n"
          ]
        }
      ]
    },
    {
      "cell_type": "code",
      "source": [
        "i  = 0\n",
        "for x in netlist:\n",
        "  output[i][1]='s_a_0'\n",
        "  output[i][2]='s_a_1'\n",
        "  output[i][0]=x[0]\n",
        "  i=i+1\n",
        "print(output)"
      ],
      "metadata": {
        "colab": {
          "base_uri": "https://localhost:8080/"
        },
        "id": "ZvzT_4DfUBWY",
        "outputId": "a7000b5c-fa0c-4879-c24b-cb0196d5159d"
      },
      "execution_count": null,
      "outputs": [
        {
          "output_type": "stream",
          "name": "stdout",
          "text": [
            "[['1' 's_a_0' 's_a_1']\n",
            " ['2' 's_a_0' 's_a_1']\n",
            " ['3' 's_a_0' 's_a_1']\n",
            " ['8' 's_a_0' 's_a_1']\n",
            " ['9' 's_a_0' 's_a_1']\n",
            " ['6' 's_a_0' 's_a_1']\n",
            " ['7' 's_a_0' 's_a_1']\n",
            " ['10' 's_a_0' 's_a_1']\n",
            " ['11' 's_a_0' 's_a_1']\n",
            " ['14' 's_a_0' 's_a_1']\n",
            " ['15' 's_a_0' 's_a_1']\n",
            " ['16' 's_a_0' 's_a_1']\n",
            " ['20' 's_a_0' 's_a_1']\n",
            " ['21' 's_a_0' 's_a_1']\n",
            " ['19' 's_a_0' 's_a_1']\n",
            " ['22' 's_a_0' 's_a_1']\n",
            " ['23' 's_a_0' 's_a_1']]\n"
          ]
        }
      ]
    },
    {
      "cell_type": "code",
      "source": [
        "for x in reversed(netlist):\n",
        "  if(x[3]=='0'and x[2]=='and'):\n",
        "    for y in output:\n",
        "      if(y[0]==x[5]):\n",
        "        y[1]=\"----\"\n",
        "      if(y[0]==x[6]):\n",
        "        y[1]=\"----\"\n",
        "  if(x[2]=='and'and x[3]!='0'):\n",
        "    for y in output:\n",
        "      if(y[0]==x[0] and y[1] =='s_a_0'):\n",
        "        for y in output:\n",
        "          if(y[0]==x[5]):\n",
        "            y[1]=\"----\"\n",
        "          if(y[0]==x[6]):\n",
        "            y[1]=\"----\"\n",
        "\n",
        "  if(x[2]=='inpt'):\n",
        "    print(\"PI=\",x[0])\n",
        "\n",
        "  if(x[3]=='0'):\n",
        "    print(\"PO=\",x[0])\n",
        "\n",
        "  if(x[3]=='0'and x[2]=='nand'):\n",
        "    for y in output:\n",
        "      if(y[0]==x[5]):\n",
        "        y[1]=\"----\"\n",
        "      if(y[0]==x[6]):\n",
        "        y[1]= \"----\"\n",
        "\n",
        "  if(x[2]=='nand'and x[3]!=0):\n",
        "    for y in output:\n",
        "      if(y[0]==x[0] and y[2]=='s_a_1'):\n",
        "        for y in output:\n",
        "          if(y[0]==x[5]):\n",
        "            y[1]=\"----\"\n",
        "          if(y[0]==x[6]):\n",
        "            y[1]==\"----\"\n",
        "\n",
        "  if(x[3]==0 and x[2]=='or'):\n",
        "    for y in output:\n",
        "      if(y[0]==x[5] ):\n",
        "        y[2]=\"----\"\n",
        "\n",
        "  if(x[2]=='or'and x[3]!='0'):\n",
        "    for y in output:\n",
        "      if(y[0]==x[0] and y[2]== 's_a_1'):\n",
        "        for y in output:\n",
        "          if(y[0]==x[5]):\n",
        "            y[2]='----'\n",
        "          if(y[0]==x[6]):\n",
        "            y[2]=\"----\"\n",
        "\n",
        "  if(x[3]=='0' and x[2]=='nor'):\n",
        "    for y in output:\n",
        "      if(y[0]==x[5]):\n",
        "        y[2]=\"----\"\n",
        "      if(y[0]== x[6]):\n",
        "        y[2]=\"----\"\n",
        "\n",
        "\n",
        "  if(x[2]=='nor'and x[3]!='0'):\n",
        "    for y in output:\n",
        "      if(y[0]==x[0] and y[1]=='s_a_0'):\n",
        "        for y in output:\n",
        "          if(y[0]==x[5]):\n",
        "            y[2]=\"----\"\n",
        "          if(y[0]==x[6]):\n",
        "            y[2]=\"----\"\n",
        "\n",
        "  if(x[3]=='0' and x[2]=='not'):\n",
        "    for y in output:\n",
        "      if(y[0]==x[5]):\n",
        "        y[1]=\"----\"\n",
        "      if(y[0]== x[6]):\n",
        "        y[1]=\"----\"\n",
        "\n",
        "\n",
        "  if(x[2]=='not'and x[3]!='0'):\n",
        "    for y in output:\n",
        "      if(y[0]==x[0] and y[2]=='s_a_1'):\n",
        "        for y in output:\n",
        "          if(y[0]==x[5]):\n",
        "            y[1]=\"----\"\n",
        "          if(y[0]==x[6]):\n",
        "            y[1]=\"----\"\n",
        "\n",
        "  if(y[0]==x[0] and y[2]=='s_a_0'):\n",
        "        for y in output:\n",
        "          if(y[0]==x[5]):\n",
        "            y[2]=\"----\"\n",
        "          if(y[0]==x[6]):\n",
        "            y[2]=\"----\"\n",
        "\n",
        "print(output)\n",
        "\n",
        "\n",
        "\n",
        "\n",
        "\n",
        "\n",
        "\n",
        "\n"
      ],
      "metadata": {
        "colab": {
          "base_uri": "https://localhost:8080/"
        },
        "id": "cQ8QxpusWQLs",
        "outputId": "5bd79751-88f0-4cf1-84f7-f6c319970504"
      },
      "execution_count": null,
      "outputs": [
        {
          "output_type": "stream",
          "name": "stdout",
          "text": [
            "PO= 23\n",
            "PO= 22\n",
            "PI= 7\n",
            "PI= 6\n",
            "PI= 3\n",
            "PI= 2\n",
            "PI= 1\n",
            "[['1' '----' 's_a_1']\n",
            " ['2' '----' 's_a_1']\n",
            " ['3' 's_a_0' 's_a_1']\n",
            " ['8' 's_a_0' 's_a_1']\n",
            " ['9' '----' 's_a_1']\n",
            " ['6' 's_a_0' 's_a_1']\n",
            " ['7' 's_a_0' 's_a_1']\n",
            " ['10' '----' 's_a_1']\n",
            " ['11' 's_a_0' 's_a_1']\n",
            " ['14' 's_a_0' 's_a_1']\n",
            " ['15' '----' 's_a_1']\n",
            " ['16' 's_a_0' 's_a_1']\n",
            " ['20' '----' 's_a_1']\n",
            " ['21' '----' 's_a_1']\n",
            " ['19' '----' 's_a_1']\n",
            " ['22' 's_a_0' 's_a_1']\n",
            " ['23' 's_a_0' 's_a_1']]\n"
          ]
        }
      ]
    },
    {
      "cell_type": "code",
      "source": [
        "og=2*len(netlist)\n",
        "new=og\n",
        "for y in output:\n",
        "  for z in y:\n",
        "    if z=='----':\n",
        "      new= new-1\n",
        "print(\"\\n\\n Collapse Ratio: \",Fraction(new,og))"
      ],
      "metadata": {
        "colab": {
          "base_uri": "https://localhost:8080/"
        },
        "id": "2MM35NbHhU7p",
        "outputId": "f2bc2a60-f92b-4f34-8c12-6c828ab1226e"
      },
      "execution_count": null,
      "outputs": [
        {
          "output_type": "stream",
          "name": "stdout",
          "text": [
            "\n",
            "\n",
            " Collapse Ratio:  13/17\n"
          ]
        }
      ]
    }
  ]
}